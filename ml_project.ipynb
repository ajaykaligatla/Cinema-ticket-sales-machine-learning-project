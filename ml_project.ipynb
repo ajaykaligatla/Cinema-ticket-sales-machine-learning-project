{
 "cells": [
  {
   "cell_type": "markdown",
   "id": "5478e20d",
   "metadata": {},
   "source": [
    "# ML_PROJECT (Ticket sales prediction)"
   ]
  },
  {
   "cell_type": "markdown",
   "id": "f33e617c",
   "metadata": {},
   "source": [
    "."
   ]
  },
  {
   "cell_type": "code",
   "execution_count": 2,
   "id": "16f4bf16",
   "metadata": {},
   "outputs": [],
   "source": [
    "import pandas as pd\n",
    "import matplotlib.pyplot as plt\n",
    "import seaborn as sns\n",
    "from sklearn.model_selection import train_test_split\n",
    "from sklearn.preprocessing import StandardScaler\n",
    "from sklearn.neighbors import KNeighborsRegressor\n",
    "from sklearn.metrics import  r2_score"
   ]
  },
  {
   "cell_type": "markdown",
   "id": "42a01c86",
   "metadata": {},
   "source": [
    "## Importing the dataset"
   ]
  },
  {
   "cell_type": "code",
   "execution_count": 3,
   "id": "d7e132e1",
   "metadata": {},
   "outputs": [
    {
     "data": {
      "text/html": [
       "<div>\n",
       "<style scoped>\n",
       "    .dataframe tbody tr th:only-of-type {\n",
       "        vertical-align: middle;\n",
       "    }\n",
       "\n",
       "    .dataframe tbody tr th {\n",
       "        vertical-align: top;\n",
       "    }\n",
       "\n",
       "    .dataframe thead th {\n",
       "        text-align: right;\n",
       "    }\n",
       "</style>\n",
       "<table border=\"1\" class=\"dataframe\">\n",
       "  <thead>\n",
       "    <tr style=\"text-align: right;\">\n",
       "      <th></th>\n",
       "      <th>film_code</th>\n",
       "      <th>cinema_code</th>\n",
       "      <th>total_sales</th>\n",
       "      <th>tickets_sold</th>\n",
       "      <th>tickets_out</th>\n",
       "      <th>show_time</th>\n",
       "      <th>occu_perc</th>\n",
       "      <th>ticket_price</th>\n",
       "      <th>ticket_use</th>\n",
       "      <th>capacity</th>\n",
       "      <th>date</th>\n",
       "      <th>month</th>\n",
       "      <th>quarter</th>\n",
       "      <th>day</th>\n",
       "    </tr>\n",
       "  </thead>\n",
       "  <tbody>\n",
       "    <tr>\n",
       "      <th>0</th>\n",
       "      <td>1492</td>\n",
       "      <td>304</td>\n",
       "      <td>3900000</td>\n",
       "      <td>26</td>\n",
       "      <td>0</td>\n",
       "      <td>4</td>\n",
       "      <td>4.26</td>\n",
       "      <td>150000.0</td>\n",
       "      <td>26</td>\n",
       "      <td>610.328638</td>\n",
       "      <td>2018-05-05</td>\n",
       "      <td>5</td>\n",
       "      <td>2</td>\n",
       "      <td>5</td>\n",
       "    </tr>\n",
       "    <tr>\n",
       "      <th>1</th>\n",
       "      <td>1492</td>\n",
       "      <td>352</td>\n",
       "      <td>3360000</td>\n",
       "      <td>42</td>\n",
       "      <td>0</td>\n",
       "      <td>5</td>\n",
       "      <td>8.08</td>\n",
       "      <td>80000.0</td>\n",
       "      <td>42</td>\n",
       "      <td>519.801980</td>\n",
       "      <td>2018-05-05</td>\n",
       "      <td>5</td>\n",
       "      <td>2</td>\n",
       "      <td>5</td>\n",
       "    </tr>\n",
       "    <tr>\n",
       "      <th>2</th>\n",
       "      <td>1492</td>\n",
       "      <td>489</td>\n",
       "      <td>2560000</td>\n",
       "      <td>32</td>\n",
       "      <td>0</td>\n",
       "      <td>4</td>\n",
       "      <td>20.00</td>\n",
       "      <td>80000.0</td>\n",
       "      <td>32</td>\n",
       "      <td>160.000000</td>\n",
       "      <td>2018-05-05</td>\n",
       "      <td>5</td>\n",
       "      <td>2</td>\n",
       "      <td>5</td>\n",
       "    </tr>\n",
       "    <tr>\n",
       "      <th>3</th>\n",
       "      <td>1492</td>\n",
       "      <td>429</td>\n",
       "      <td>1200000</td>\n",
       "      <td>12</td>\n",
       "      <td>0</td>\n",
       "      <td>1</td>\n",
       "      <td>11.01</td>\n",
       "      <td>100000.0</td>\n",
       "      <td>12</td>\n",
       "      <td>108.991826</td>\n",
       "      <td>2018-05-05</td>\n",
       "      <td>5</td>\n",
       "      <td>2</td>\n",
       "      <td>5</td>\n",
       "    </tr>\n",
       "    <tr>\n",
       "      <th>4</th>\n",
       "      <td>1492</td>\n",
       "      <td>524</td>\n",
       "      <td>1200000</td>\n",
       "      <td>15</td>\n",
       "      <td>0</td>\n",
       "      <td>3</td>\n",
       "      <td>16.67</td>\n",
       "      <td>80000.0</td>\n",
       "      <td>15</td>\n",
       "      <td>89.982004</td>\n",
       "      <td>2018-05-05</td>\n",
       "      <td>5</td>\n",
       "      <td>2</td>\n",
       "      <td>5</td>\n",
       "    </tr>\n",
       "  </tbody>\n",
       "</table>\n",
       "</div>"
      ],
      "text/plain": [
       "   film_code  cinema_code  total_sales  tickets_sold  tickets_out  show_time  \\\n",
       "0       1492          304      3900000            26            0          4   \n",
       "1       1492          352      3360000            42            0          5   \n",
       "2       1492          489      2560000            32            0          4   \n",
       "3       1492          429      1200000            12            0          1   \n",
       "4       1492          524      1200000            15            0          3   \n",
       "\n",
       "   occu_perc  ticket_price  ticket_use    capacity        date  month  \\\n",
       "0       4.26      150000.0          26  610.328638  2018-05-05      5   \n",
       "1       8.08       80000.0          42  519.801980  2018-05-05      5   \n",
       "2      20.00       80000.0          32  160.000000  2018-05-05      5   \n",
       "3      11.01      100000.0          12  108.991826  2018-05-05      5   \n",
       "4      16.67       80000.0          15   89.982004  2018-05-05      5   \n",
       "\n",
       "   quarter  day  \n",
       "0        2    5  \n",
       "1        2    5  \n",
       "2        2    5  \n",
       "3        2    5  \n",
       "4        2    5  "
      ]
     },
     "execution_count": 3,
     "metadata": {},
     "output_type": "execute_result"
    }
   ],
   "source": [
    "df = pd.read_csv(\"cinemaTicket_Ref.csv\")\n",
    "df.head() "
   ]
  },
  {
   "cell_type": "markdown",
   "id": "45b23f6e",
   "metadata": {},
   "source": [
    "## Shape of the dataset"
   ]
  },
  {
   "cell_type": "code",
   "execution_count": 4,
   "id": "4d8e378f",
   "metadata": {},
   "outputs": [
    {
     "data": {
      "text/plain": [
       "(142524, 14)"
      ]
     },
     "execution_count": 4,
     "metadata": {},
     "output_type": "execute_result"
    }
   ],
   "source": [
    "df.shape"
   ]
  },
  {
   "cell_type": "markdown",
   "id": "0849bc28",
   "metadata": {},
   "source": [
    "## Information of the dataset"
   ]
  },
  {
   "cell_type": "code",
   "execution_count": 5,
   "id": "f8166b20",
   "metadata": {},
   "outputs": [
    {
     "name": "stdout",
     "output_type": "stream",
     "text": [
      "<class 'pandas.core.frame.DataFrame'>\n",
      "RangeIndex: 142524 entries, 0 to 142523\n",
      "Data columns (total 14 columns):\n",
      " #   Column        Non-Null Count   Dtype  \n",
      "---  ------        --------------   -----  \n",
      " 0   film_code     142524 non-null  int64  \n",
      " 1   cinema_code   142524 non-null  int64  \n",
      " 2   total_sales   142524 non-null  int64  \n",
      " 3   tickets_sold  142524 non-null  int64  \n",
      " 4   tickets_out   142524 non-null  int64  \n",
      " 5   show_time     142524 non-null  int64  \n",
      " 6   occu_perc     142399 non-null  float64\n",
      " 7   ticket_price  142524 non-null  float64\n",
      " 8   ticket_use    142524 non-null  int64  \n",
      " 9   capacity      142399 non-null  float64\n",
      " 10  date          142524 non-null  object \n",
      " 11  month         142524 non-null  int64  \n",
      " 12  quarter       142524 non-null  int64  \n",
      " 13  day           142524 non-null  int64  \n",
      "dtypes: float64(3), int64(10), object(1)\n",
      "memory usage: 15.2+ MB\n"
     ]
    }
   ],
   "source": [
    "df.info()"
   ]
  },
  {
   "cell_type": "markdown",
   "id": "d3517977",
   "metadata": {},
   "source": [
    "## Filling null values with mean"
   ]
  },
  {
   "cell_type": "code",
   "execution_count": 6,
   "id": "f2920e01",
   "metadata": {},
   "outputs": [
    {
     "data": {
      "text/plain": [
       "film_code         0\n",
       "cinema_code       0\n",
       "total_sales       0\n",
       "tickets_sold      0\n",
       "tickets_out       0\n",
       "show_time         0\n",
       "occu_perc       125\n",
       "ticket_price      0\n",
       "ticket_use        0\n",
       "capacity        125\n",
       "date              0\n",
       "month             0\n",
       "quarter           0\n",
       "day               0\n",
       "dtype: int64"
      ]
     },
     "execution_count": 6,
     "metadata": {},
     "output_type": "execute_result"
    }
   ],
   "source": [
    "df.isnull().sum()"
   ]
  },
  {
   "cell_type": "code",
   "execution_count": 7,
   "id": "3858ecb1",
   "metadata": {},
   "outputs": [],
   "source": [
    "df['occu_perc'] = df['occu_perc'].fillna(df['occu_perc'].mean())\n",
    "df['capacity'] = df['capacity'].fillna(df['capacity'].mean())\n"
   ]
  },
  {
   "cell_type": "code",
   "execution_count": 8,
   "id": "06e2b655",
   "metadata": {},
   "outputs": [
    {
     "data": {
      "text/plain": [
       "film_code       0\n",
       "cinema_code     0\n",
       "total_sales     0\n",
       "tickets_sold    0\n",
       "tickets_out     0\n",
       "show_time       0\n",
       "occu_perc       0\n",
       "ticket_price    0\n",
       "ticket_use      0\n",
       "capacity        0\n",
       "date            0\n",
       "month           0\n",
       "quarter         0\n",
       "day             0\n",
       "dtype: int64"
      ]
     },
     "execution_count": 8,
     "metadata": {},
     "output_type": "execute_result"
    }
   ],
   "source": [
    "df.isnull().sum()"
   ]
  },
  {
   "cell_type": "markdown",
   "id": "ce1bbaf7",
   "metadata": {},
   "source": [
    "## Statistical description"
   ]
  },
  {
   "cell_type": "code",
   "execution_count": 9,
   "id": "45112a98",
   "metadata": {},
   "outputs": [
    {
     "data": {
      "text/html": [
       "<div>\n",
       "<style scoped>\n",
       "    .dataframe tbody tr th:only-of-type {\n",
       "        vertical-align: middle;\n",
       "    }\n",
       "\n",
       "    .dataframe tbody tr th {\n",
       "        vertical-align: top;\n",
       "    }\n",
       "\n",
       "    .dataframe thead th {\n",
       "        text-align: right;\n",
       "    }\n",
       "</style>\n",
       "<table border=\"1\" class=\"dataframe\">\n",
       "  <thead>\n",
       "    <tr style=\"text-align: right;\">\n",
       "      <th></th>\n",
       "      <th>film_code</th>\n",
       "      <th>cinema_code</th>\n",
       "      <th>total_sales</th>\n",
       "      <th>tickets_sold</th>\n",
       "      <th>tickets_out</th>\n",
       "      <th>show_time</th>\n",
       "      <th>occu_perc</th>\n",
       "      <th>ticket_price</th>\n",
       "      <th>ticket_use</th>\n",
       "      <th>capacity</th>\n",
       "      <th>month</th>\n",
       "      <th>quarter</th>\n",
       "      <th>day</th>\n",
       "    </tr>\n",
       "  </thead>\n",
       "  <tbody>\n",
       "    <tr>\n",
       "      <th>count</th>\n",
       "      <td>142524.000000</td>\n",
       "      <td>142524.000000</td>\n",
       "      <td>1.425240e+05</td>\n",
       "      <td>142524.000000</td>\n",
       "      <td>142524.000000</td>\n",
       "      <td>142524.000000</td>\n",
       "      <td>142524.000000</td>\n",
       "      <td>142524.000000</td>\n",
       "      <td>142524.000000</td>\n",
       "      <td>142524.000000</td>\n",
       "      <td>142524.000000</td>\n",
       "      <td>142524.000000</td>\n",
       "      <td>142524.000000</td>\n",
       "    </tr>\n",
       "    <tr>\n",
       "      <th>mean</th>\n",
       "      <td>1518.985111</td>\n",
       "      <td>320.378427</td>\n",
       "      <td>1.234728e+07</td>\n",
       "      <td>140.137570</td>\n",
       "      <td>0.237413</td>\n",
       "      <td>3.932103</td>\n",
       "      <td>19.965986</td>\n",
       "      <td>81234.599886</td>\n",
       "      <td>139.900157</td>\n",
       "      <td>854.723605</td>\n",
       "      <td>6.776852</td>\n",
       "      <td>2.634721</td>\n",
       "      <td>16.112585</td>\n",
       "    </tr>\n",
       "    <tr>\n",
       "      <th>std</th>\n",
       "      <td>36.184450</td>\n",
       "      <td>159.701229</td>\n",
       "      <td>3.065486e+07</td>\n",
       "      <td>279.758733</td>\n",
       "      <td>2.923206</td>\n",
       "      <td>3.056276</td>\n",
       "      <td>22.643509</td>\n",
       "      <td>33236.599278</td>\n",
       "      <td>279.564935</td>\n",
       "      <td>952.700045</td>\n",
       "      <td>2.195843</td>\n",
       "      <td>0.809692</td>\n",
       "      <td>8.949471</td>\n",
       "    </tr>\n",
       "    <tr>\n",
       "      <th>min</th>\n",
       "      <td>1471.000000</td>\n",
       "      <td>32.000000</td>\n",
       "      <td>2.000000e+04</td>\n",
       "      <td>1.000000</td>\n",
       "      <td>0.000000</td>\n",
       "      <td>1.000000</td>\n",
       "      <td>0.000000</td>\n",
       "      <td>483.870968</td>\n",
       "      <td>-219.000000</td>\n",
       "      <td>-2.000000</td>\n",
       "      <td>2.000000</td>\n",
       "      <td>1.000000</td>\n",
       "      <td>1.000000</td>\n",
       "    </tr>\n",
       "    <tr>\n",
       "      <th>25%</th>\n",
       "      <td>1485.000000</td>\n",
       "      <td>181.000000</td>\n",
       "      <td>1.260000e+06</td>\n",
       "      <td>18.000000</td>\n",
       "      <td>0.000000</td>\n",
       "      <td>2.000000</td>\n",
       "      <td>3.760000</td>\n",
       "      <td>60000.000000</td>\n",
       "      <td>18.000000</td>\n",
       "      <td>277.777778</td>\n",
       "      <td>5.000000</td>\n",
       "      <td>2.000000</td>\n",
       "      <td>8.000000</td>\n",
       "    </tr>\n",
       "    <tr>\n",
       "      <th>50%</th>\n",
       "      <td>1498.000000</td>\n",
       "      <td>324.000000</td>\n",
       "      <td>3.720000e+06</td>\n",
       "      <td>50.000000</td>\n",
       "      <td>0.000000</td>\n",
       "      <td>3.000000</td>\n",
       "      <td>10.370000</td>\n",
       "      <td>79454.235185</td>\n",
       "      <td>50.000000</td>\n",
       "      <td>526.028883</td>\n",
       "      <td>7.000000</td>\n",
       "      <td>3.000000</td>\n",
       "      <td>16.000000</td>\n",
       "    </tr>\n",
       "    <tr>\n",
       "      <th>75%</th>\n",
       "      <td>1556.000000</td>\n",
       "      <td>474.000000</td>\n",
       "      <td>1.110000e+07</td>\n",
       "      <td>143.000000</td>\n",
       "      <td>0.000000</td>\n",
       "      <td>5.000000</td>\n",
       "      <td>28.190000</td>\n",
       "      <td>100000.000000</td>\n",
       "      <td>143.000000</td>\n",
       "      <td>1037.746584</td>\n",
       "      <td>9.000000</td>\n",
       "      <td>3.000000</td>\n",
       "      <td>24.000000</td>\n",
       "    </tr>\n",
       "    <tr>\n",
       "      <th>max</th>\n",
       "      <td>1589.000000</td>\n",
       "      <td>637.000000</td>\n",
       "      <td>1.262820e+09</td>\n",
       "      <td>8499.000000</td>\n",
       "      <td>311.000000</td>\n",
       "      <td>60.000000</td>\n",
       "      <td>147.500000</td>\n",
       "      <td>700000.000000</td>\n",
       "      <td>8499.000000</td>\n",
       "      <td>9692.097160</td>\n",
       "      <td>11.000000</td>\n",
       "      <td>4.000000</td>\n",
       "      <td>31.000000</td>\n",
       "    </tr>\n",
       "  </tbody>\n",
       "</table>\n",
       "</div>"
      ],
      "text/plain": [
       "           film_code    cinema_code   total_sales   tickets_sold  \\\n",
       "count  142524.000000  142524.000000  1.425240e+05  142524.000000   \n",
       "mean     1518.985111     320.378427  1.234728e+07     140.137570   \n",
       "std        36.184450     159.701229  3.065486e+07     279.758733   \n",
       "min      1471.000000      32.000000  2.000000e+04       1.000000   \n",
       "25%      1485.000000     181.000000  1.260000e+06      18.000000   \n",
       "50%      1498.000000     324.000000  3.720000e+06      50.000000   \n",
       "75%      1556.000000     474.000000  1.110000e+07     143.000000   \n",
       "max      1589.000000     637.000000  1.262820e+09    8499.000000   \n",
       "\n",
       "         tickets_out      show_time      occu_perc   ticket_price  \\\n",
       "count  142524.000000  142524.000000  142524.000000  142524.000000   \n",
       "mean        0.237413       3.932103      19.965986   81234.599886   \n",
       "std         2.923206       3.056276      22.643509   33236.599278   \n",
       "min         0.000000       1.000000       0.000000     483.870968   \n",
       "25%         0.000000       2.000000       3.760000   60000.000000   \n",
       "50%         0.000000       3.000000      10.370000   79454.235185   \n",
       "75%         0.000000       5.000000      28.190000  100000.000000   \n",
       "max       311.000000      60.000000     147.500000  700000.000000   \n",
       "\n",
       "          ticket_use       capacity          month        quarter  \\\n",
       "count  142524.000000  142524.000000  142524.000000  142524.000000   \n",
       "mean      139.900157     854.723605       6.776852       2.634721   \n",
       "std       279.564935     952.700045       2.195843       0.809692   \n",
       "min      -219.000000      -2.000000       2.000000       1.000000   \n",
       "25%        18.000000     277.777778       5.000000       2.000000   \n",
       "50%        50.000000     526.028883       7.000000       3.000000   \n",
       "75%       143.000000    1037.746584       9.000000       3.000000   \n",
       "max      8499.000000    9692.097160      11.000000       4.000000   \n",
       "\n",
       "                 day  \n",
       "count  142524.000000  \n",
       "mean       16.112585  \n",
       "std         8.949471  \n",
       "min         1.000000  \n",
       "25%         8.000000  \n",
       "50%        16.000000  \n",
       "75%        24.000000  \n",
       "max        31.000000  "
      ]
     },
     "execution_count": 9,
     "metadata": {},
     "output_type": "execute_result"
    }
   ],
   "source": [
    "df.describe()"
   ]
  },
  {
   "cell_type": "code",
   "execution_count": 10,
   "id": "db96cd4a",
   "metadata": {},
   "outputs": [
    {
     "data": {
      "text/plain": [
       "<AxesSubplot:>"
      ]
     },
     "execution_count": 10,
     "metadata": {},
     "output_type": "execute_result"
    },
    {
     "data": {
      "image/png": "[encoded data removed]",
      "text/plain": [
       "<Figure size 1080x360 with 2 Axes>"
      ]
     },
     "metadata": {},
     "output_type": "display_data"
    }
   ],
   "source": [
    "sns.set_theme(color_codes=True)\n",
    "sns.set_theme(style=\"darkgrid\")\n",
    "plt.figure(figsize = (15,5))\n",
    "sns.heatmap(df.corr()  ,annot = True , cmap=\"cividis\")"
   ]
  },
  {
   "cell_type": "markdown",
   "id": "9d919b93",
   "metadata": {},
   "source": [
    "## Dividing Target variable and Independent variables"
   ]
  },
  {
   "cell_type": "code",
   "execution_count": 11,
   "id": "558896b0",
   "metadata": {},
   "outputs": [],
   "source": [
    "X = df[['film_code', 'cinema_code', 'tickets_sold', 'tickets_out', 'show_time', 'occu_perc', 'ticket_price', 'ticket_use', 'capacity', 'month', 'quarter', 'day']]\n",
    "y = df['total_sales']\n"
   ]
  },
  {
   "cell_type": "markdown",
   "id": "a16f60f3",
   "metadata": {},
   "source": [
    "## Spliting the data into training and testing"
   ]
  },
  {
   "cell_type": "code",
   "execution_count": 12,
   "id": "99721861",
   "metadata": {},
   "outputs": [],
   "source": [
    "X_train, X_test, y_train, y_test = train_test_split(X, y, test_size=0.2, random_state=42)\n"
   ]
  },
  {
   "cell_type": "markdown",
   "id": "5eebf00c",
   "metadata": {},
   "source": [
    "## Normalization of the Data"
   ]
  },
  {
   "cell_type": "code",
   "execution_count": 13,
   "id": "f60084ac",
   "metadata": {},
   "outputs": [],
   "source": [
    "scaler = StandardScaler()\n",
    "X_train_scaled = scaler.fit_transform(X_train)\n",
    "X_test_scaled = scaler.transform(X_test)\n"
   ]
  },
  {
   "cell_type": "markdown",
   "id": "c0750aac",
   "metadata": {},
   "source": [
    "## Applying Knn model "
   ]
  },
  {
   "cell_type": "code",
   "execution_count": 14,
   "id": "c71d002c",
   "metadata": {},
   "outputs": [
    {
     "data": {
      "text/plain": [
       "KNeighborsRegressor()"
      ]
     },
     "execution_count": 14,
     "metadata": {},
     "output_type": "execute_result"
    }
   ],
   "source": [
    "model = KNeighborsRegressor(n_neighbors=5)\n",
    "model.fit(X_train_scaled, y_train)\n"
   ]
  },
  {
   "cell_type": "code",
   "execution_count": 15,
   "id": "66f289a6",
   "metadata": {},
   "outputs": [],
   "source": [
    "y_pred = model.predict(X_test_scaled)\n"
   ]
  },
  {
   "cell_type": "markdown",
   "id": "adcf47a9",
   "metadata": {},
   "source": [
    "## Calculating R-squared Score to know whether model fit data or not"
   ]
  },
  {
   "cell_type": "code",
   "execution_count": 16,
   "id": "db8e14b9",
   "metadata": {},
   "outputs": [
    {
     "name": "stdout",
     "output_type": "stream",
     "text": [
      "R-squared Score: 0.9736477916725094\n"
     ]
    }
   ],
   "source": [
    "r2 = r2_score(y_test, y_pred)\n",
    "print(\"R-squared Score:\", r2)\n"
   ]
  },
  {
   "cell_type": "markdown",
   "id": "cbcd396b",
   "metadata": {},
   "source": [
    "#### Knn is good fit because\n"
   ]
  },
  {
   "cell_type": "markdown",
   "id": "27d68b78",
   "metadata": {},
   "source": [
    "Here R-squared Score: 0.9736477916725094 ... i.e KNN model has a very good fit to the data. \n",
    "\n",
    "R-squared is a statistical measure that represents the proportion of the variance in the target variable that is predictable from the independent variables.\n",
    "\n",
    "In this case, a score of 0.9736 suggests that approximately 97.36% of the variance in the total sales can be explained by the independent variables used in the model. \n",
    "\n",
    "This is a high R-squared score and generally indicates a good fit. "
   ]
  },
  {
   "cell_type": "markdown",
   "id": "62ee6004",
   "metadata": {},
   "source": [
    "## Taking a new sample "
   ]
  },
  {
   "cell_type": "code",
   "execution_count": 17,
   "id": "cab5f18c",
   "metadata": {},
   "outputs": [
    {
     "data": {
      "text/plain": [
       "array([2840000.])"
      ]
     },
     "execution_count": 17,
     "metadata": {},
     "output_type": "execute_result"
    }
   ],
   "source": [
    "new_sample=[[1492,524,15,0,3,16.67,80000,15,89.982004,5,2,5]]\n",
    "pre=model.predict(new_sample)\n",
    "pre\n"
   ]
  },
  {
   "cell_type": "markdown",
   "id": "1e3ddd4e",
   "metadata": {},
   "source": [
    "## Gradio Interfacing to above model"
   ]
  },
  {
   "cell_type": "code",
   "execution_count": 18,
   "id": "49d7a171",
   "metadata": {
    "scrolled": false
   },
   "outputs": [
    {
     "name": "stderr",
     "output_type": "stream",
     "text": [
      "C:\\Users\\Ajay kaligatla\\anaconda3\\lib\\site-packages\\gradio\\inputs.py:59: UserWarning: Usage of gradio.inputs is deprecated, and will not be supported in the future, please import your component from gradio.components\n",
      "  warnings.warn(\n",
      "C:\\Users\\Ajay kaligatla\\anaconda3\\lib\\site-packages\\gradio\\inputs.py:62: UserWarning: `optional` parameter is deprecated, and it has no effect\n",
      "  super().__init__(value=default, label=label, optional=optional)\n",
      "C:\\Users\\Ajay kaligatla\\anaconda3\\lib\\site-packages\\gradio\\inputs.py:219: UserWarning: Usage of gradio.inputs is deprecated, and will not be supported in the future, please import your component from gradio.components\n",
      "  warnings.warn(\n",
      "C:\\Users\\Ajay kaligatla\\anaconda3\\lib\\site-packages\\gradio\\inputs.py:222: UserWarning: `optional` parameter is deprecated, and it has no effect\n",
      "  super().__init__(\n",
      "C:\\Users\\Ajay kaligatla\\anaconda3\\lib\\site-packages\\gradio\\outputs.py:22: UserWarning: Usage of gradio.outputs is deprecated, and will not be supported in the future, please import your components from gradio.components\n",
      "  warnings.warn(\n"
     ]
    },
    {
     "name": "stdout",
     "output_type": "stream",
     "text": [
      "Running on local URL:  http://127.0.0.1:7860\n",
      "\n",
      "To create a public link, set `share=True` in `launch()`.\n"
     ]
    },
    {
     "data": {
      "text/html": [
       "<div><iframe src=\"http://127.0.0.1:7860/\" width=\"100%\" height=\"500\" allow=\"autoplay; camera; microphone; clipboard-read; clipboard-write;\" frameborder=\"0\" allowfullscreen></iframe></div>"
      ],
      "text/plain": [
       "<IPython.core.display.HTML object>"
      ]
     },
     "metadata": {},
     "output_type": "display_data"
    },
    {
     "data": {
      "text/plain": []
     },
     "execution_count": 18,
     "metadata": {},
     "output_type": "execute_result"
    }
   ],
   "source": [
    "import gradio as gr\n",
    "# Define the prediction function\n",
    "def predict_total_sales(film_code, cinema_code, tickets_sold,tickets_out, show_time, occu_perc, ticket_price, ticket_use, capacity,month,quarter,day):\n",
    "    # Prepare the input data for prediction\n",
    "    input_data = [[film_code, cinema_code, tickets_sold,tickets_out, show_time, occu_perc, ticket_price, ticket_use, capacity,month,quarter,day]]\n",
    "    \n",
    "    # Make the prediction\n",
    "    prediction =model.predict(input_data)\n",
    "    \n",
    "    return prediction[0]\n",
    "\n",
    "# Create the Gradio interface\n",
    "inputs = [\n",
    "    gr.inputs.Number(label=\"Film Code\"),\n",
    "    gr.inputs.Number(label=\"Cinema Code\"),\n",
    "    gr.inputs.Number(label=\"Tickets Sold\"),\n",
    "    gr.inputs.Number(label=\"Tickets Out\"),\n",
    "    gr.inputs.Number(label=\"Show Time\"),\n",
    "    gr.inputs.Number(label=\"Occupancy Percentage\"),\n",
    "    gr.inputs.Number(label=\"Ticket Price\"),\n",
    "    gr.inputs.Number(label=\"Ticket Use\"),\n",
    "    gr.inputs.Number(label=\"Capacity\"),\n",
    "    gr.inputs.Dropdown(choices=list(range(1, 13)),label=\"Month\"),\n",
    "    gr.inputs.Dropdown(choices=list(range(1, 5)),label=\"Quarter\"),\n",
    "    gr.inputs.Dropdown(choices=list(range(1, 32)),label=\"Day\")\n",
    "]\n",
    "\n",
    "output = gr.outputs.Textbox(label=\"Predicted Total Sales\")\n",
    "\n",
    "interface = gr.Interface(\n",
    "    fn=predict_total_sales,\n",
    "    inputs=inputs,\n",
    "    outputs=output,\n",
    "    title=\"Cinema Ticket Sales Prediction\",\n",
    "    description=\"Enter the relevant information to predict the total sales.\",\n",
    "    theme=\"default\"\n",
    ")\n",
    "\n",
    "# Launch the interface\n",
    "interface.launch()"
   ]
  },
  {
   "cell_type": "code",
   "execution_count": null,
   "id": "a6504347",
   "metadata": {},
   "outputs": [],
   "source": []
  },
  {
   "cell_type": "code",
   "execution_count": null,
   "id": "27728073",
   "metadata": {},
   "outputs": [],
   "source": []
  }
 ],
 "metadata": {
  "kernelspec": {
   "display_name": "Python 3 (ipykernel)",
   "language": "python",
   "name": "python3"
  },
  "language_info": {
   "codemirror_mode": {
    "name": "ipython",
    "version": 3
   },
   "file_extension": ".py",
   "mimetype": "text/x-python",
   "name": "python",
   "nbconvert_exporter": "python",
   "pygments_lexer": "ipython3",
   "version": "3.9.12"
  }
 },
 "nbformat": 4,
 "nbformat_minor": 5
}
